{
 "cells": [
  {
   "cell_type": "code",
   "execution_count": 1,
   "metadata": {},
   "outputs": [],
   "source": [
    "from bs4 import BeautifulSoup as bs\n",
    "import numpy as np\n",
    "import pandas as pd\n",
    "import requests\n",
    "import re"
   ]
  },
  {
   "cell_type": "code",
   "execution_count": 2,
   "metadata": {},
   "outputs": [],
   "source": [
    "#prep\n",
    "\n",
    "og_html = requests.get('https://religion.byu.edu/directory')\n",
    "s = bs(og_html.text)"
   ]
  },
  {
   "cell_type": "code",
   "execution_count": 3,
   "metadata": {},
   "outputs": [],
   "source": [
    "#Tag containing professor info\n",
    "profs = s.find_all('h3', class_=\"PromoVerticalImage-title promo-title\")\n",
    "\n",
    "#Find full names\n",
    "names = [i.find('a').text for i in profs]\n",
    "\n",
    "#Find links to their individual pages (used for getting more info later)\n",
    "links = [i.find('a')['href'] for i in profs]\n",
    "\n",
    "#Find their titles (Professor, Adjunct Professor, etc.)\n",
    "titles = [None] * len(profs)\n",
    "for i in range(len(profs)):\n",
    "    try:\n",
    "        titles[i] = profs[i].parent.find(class_=\"PromoVerticalImage-jobTitle\").text\n",
    "    except AttributeError:\n",
    "        titles[i] = None\n",
    "        \n",
    "#Find out their teaching area (ancient scripture, church history and doctrine, etc.)\n",
    "#The error handling is because some don't have one\n",
    "areas = [None] * len(profs)\n",
    "for i in range(len(profs)):\n",
    "    try:\n",
    "        areas[i] = profs[i].parent.find(class_=\"PromoVerticalImage-groups\").text\n",
    "    except AttributeError:\n",
    "        areas[i] = None\n",
    "areas = [i.split(', ') for i in areas]\n",
    "\n",
    "#Remove \"Salt Lake Center\" from the area list and turn into its own boolean variable\n",
    "slc = [False] * len(profs)\n",
    "for i in range(len(profs)):\n",
    "    if 'Salt Lake Center' in areas[i]:\n",
    "        slc[i] = True\n",
    "        areas[i].remove('Salt Lake Center')"
   ]
  },
  {
   "cell_type": "code",
   "execution_count": 66,
   "metadata": {},
   "outputs": [],
   "source": [
    "#Go into each link to get the building and room number of their offices and their phone numbers\n",
    "\n",
    "offices = [None] * len(profs)\n",
    "phone_numbers = [None] * len(profs)\n",
    "for i in range(len(profs)):                                     #Iterate through all faculty on the page\n",
    "    html = requests.get(links[i])                               #Follow the link to the professor's page\n",
    "    s = bs(html.text)\n",
    "    t = s.find(class_=\"RichTextModule-items RichTextBody\").text #Find his or her office location\n",
    "    offices[i] = t.strip(' \\n').split(' \\n')[0]                 #Reformat\n",
    "    \n",
    "    try:\n",
    "        phone_numbers[i] = s.find(class_=\"EmployeePage-phoneNumber description-text\").text   #Get phone number\n",
    "    except AttributeError:\n",
    "        phone_numbers[i] = None\n",
    "    #s.find(text=re.compile(r'\\d{3}-\\d{3}-\\d{4}|\\(\\d{3}\\)\\d{3}-\\d{4}'))\n",
    "    #This commented line almost works for getting the phone number, but it's a little more finnicky\n",
    "offices = list(map(lambda v: v.replace('Joseph Smith Building','? JSB'), offices))\n",
    "room_number = list(map(lambda o: o.split(' ')[0], offices))     #Split into two lists, room number and building\n",
    "building = list(map(lambda o: o.split(' ')[1], offices))"
   ]
  },
  {
   "cell_type": "code",
   "execution_count": null,
   "metadata": {},
   "outputs": [],
   "source": [
    "# I think this is going to be too hard\n",
    "\n",
    "# List of phrases used to indicate what they got their masters and doctorate degrees in\n",
    "# PhD in [] from [].   # Ken Alford\n",
    "# master of [] in [] from [],\n",
    "# MA and PhD degrees from [].\n",
    "# PhD in [] and\n",
    "# MA in [] from [],\n",
    "# MTS in [] from [],\n",
    "# MA in [] from [];\n",
    "# MA and a PhD in [] from [].\n",
    "# MA from [] in [];\n",
    "# MSt from [] in [];\n",
    "# PhD from [] in [].\n",
    "# M.A. in [] from [].\n",
    "# M.A. in [] from [] in [year],\n",
    "# Ph.D. in [] from [] in [year].   # David Calabro\n",
    "\n",
    "# Master's degree trigger phrases: 'master of ', 'MA in ', 'MTS in ', 'MSt in ', 'M.A. in '\n",
    "# Doctorate trigger phrases: 'PhD in ', ''"
   ]
  }
 ],
 "metadata": {
  "kernelspec": {
   "display_name": "Python 3",
   "language": "python",
   "name": "python3"
  },
  "language_info": {
   "codemirror_mode": {
    "name": "ipython",
    "version": 3
   },
   "file_extension": ".py",
   "mimetype": "text/x-python",
   "name": "python",
   "nbconvert_exporter": "python",
   "pygments_lexer": "ipython3",
   "version": "3.8.10"
  }
 },
 "nbformat": 4,
 "nbformat_minor": 4
}
