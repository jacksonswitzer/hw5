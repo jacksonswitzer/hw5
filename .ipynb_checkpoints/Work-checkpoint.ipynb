{
 "cells": [
  {
   "cell_type": "code",
   "execution_count": 55,
   "metadata": {},
   "outputs": [],
   "source": [
    "from bs4 import BeautifulSoup as bs\n",
    "import numpy as np\n",
    "import pandas as pd\n",
    "import requests\n",
    "import re"
   ]
  },
  {
   "cell_type": "code",
   "execution_count": 2,
   "metadata": {},
   "outputs": [],
   "source": [
    "# prep\n",
    "\n",
    "og_html = requests.get('https://religion.byu.edu/directory')\n",
    "s = bs(og_html.text)"
   ]
  },
  {
   "cell_type": "code",
   "execution_count": 10,
   "metadata": {},
   "outputs": [],
   "source": [
    "# stuff that works\n",
    "\n",
    "profs = s.find_all('h3', class_=\"PromoVerticalImage-title promo-title\")\n",
    "\n",
    "names = [i.find('a').text for i in profs]\n",
    "\n",
    "links = [i.find('a')['href'] for i in profs]\n",
    "\n",
    "titles = [None] * len(profs)\n",
    "for i in range(len(profs)):\n",
    "    try:\n",
    "        titles[i] = profs[i].parent.find(class_=\"PromoVerticalImage-jobTitle\").text\n",
    "    except AttributeError:\n",
    "        titles[i] = None\n",
    "        \n",
    "areas = [None] * len(profs)\n",
    "for i in range(len(profs)):\n",
    "    try:\n",
    "        areas[i] = profs[i].parent.find(class_=\"PromoVerticalImage-groups\").text\n",
    "    except AttributeError:\n",
    "        areas[i] = None\n",
    "areas = [i.split(', ') for i in areas]\n",
    "\n",
    "slc = [False] * len(profs)\n",
    "for i in range(len(profs)):\n",
    "    if 'Salt Lake Center' in areas[i]:\n",
    "        slc[i] = True\n",
    "        areas[i].remove('Salt Lake Center')"
   ]
  },
  {
   "cell_type": "code",
   "execution_count": 105,
   "metadata": {},
   "outputs": [],
   "source": [
    "# stuff I'm working on\n",
    "# This takes about 20 seconds to run\n",
    "# It successfully gets all the offices, but I need to clean it up--turn 'Joseph Smith Building' into JSB and split\n",
    "# into two columns, building and room number\n",
    "\n",
    "offices = [None] * len(profs)\n",
    "for i in range(len(profs)):\n",
    "    html = requests.get(links[i])\n",
    "    s = bs(html.text)\n",
    "    t = s.find(class_=\"RichTextModule-items RichTextBody\").text\n",
    "    offices[i] = t.strip(' \\n').split(' \\n')[0]"
   ]
  }
 ],
 "metadata": {
  "kernelspec": {
   "display_name": "Python 3",
   "language": "python",
   "name": "python3"
  },
  "language_info": {
   "codemirror_mode": {
    "name": "ipython",
    "version": 3
   },
   "file_extension": ".py",
   "mimetype": "text/x-python",
   "name": "python",
   "nbconvert_exporter": "python",
   "pygments_lexer": "ipython3",
   "version": "3.8.10"
  }
 },
 "nbformat": 4,
 "nbformat_minor": 4
}
